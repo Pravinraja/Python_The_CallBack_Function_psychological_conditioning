{
  "nbformat": 4,
  "nbformat_minor": 0,
  "metadata": {
    "colab": {
      "provenance": []
    },
    "kernelspec": {
      "name": "python3",
      "display_name": "Python 3"
    },
    "language_info": {
      "name": "python"
    }
  },
  "cells": [
    {
      "cell_type": "code",
      "execution_count": 4,
      "metadata": {
        "colab": {
          "base_uri": "https://localhost:8080/"
        },
        "id": "d-w5B-0CYSbs",
        "outputId": "24277d28-d4fc-4676-a882-086de9738480"
      },
      "outputs": [
        {
          "output_type": "stream",
          "name": "stdout",
          "text": [
            "The calculated food preference strength is 8.30.\n"
          ]
        }
      ],
      "source": [
        "def food_taste_conditioning(callback, food_taste, food_smell, food_texture):\n",
        "    \"\"\"\n",
        "    Executes a callback operation with three arguments for food and taste psychology.\n",
        "\n",
        "    Parameters:\n",
        "        callback (callable): The callback function to execute.\n",
        "        food_taste: The taste rating of the food (e.g., on a scale of 1-10).\n",
        "        food_smell: The smell rating of the food (e.g., on a scale of 1-10).\n",
        "        food_texture: The texture rating of the food (e.g., on a scale of 1-10).\n",
        "\n",
        "    Returns:\n",
        "        The result of the callback function.\n",
        "    \"\"\"\n",
        "    if callable(callback):\n",
        "        return callback(food_taste, food_smell, food_texture)\n",
        "    else:\n",
        "        raise ValueError(\"The callback must be a callable function.\")\n",
        "\n",
        "# Example callback function for conditioning strength\n",
        "def calculate_food_preference(taste, smell, texture):\n",
        "    \"\"\"\n",
        "    Calculate food preference strength based on psychological conditioning.\n",
        "\n",
        "    Parameters:\n",
        "        taste: The taste rating of the food (e.g., on a scale of 1-10).\n",
        "        smell: The smell rating of the food (e.g., on a scale of 1-10).\n",
        "        texture: The texture rating of the food (e.g., on a scale of 1-10).\n",
        "\n",
        "    Returns:\n",
        "        A score representing food preference strength.\n",
        "    \"\"\"\n",
        "    # Formula: Higher taste, smell, and texture ratings lead to stronger preference\n",
        "    preference_strength = (taste * 0.5 + smell * 0.3 + texture * 0.2)\n",
        "    return preference_strength\n",
        "\n",
        "# Usage\n",
        "food_taste = 9  # Taste rating (1-10)\n",
        "food_smell = 8  # Smell rating (1-10)\n",
        "food_texture = 7  # Texture rating (1-10)\n",
        "\n",
        "try:\n",
        "    preference_strength = food_taste_conditioning(\n",
        "        calculate_food_preference,\n",
        "        food_taste,\n",
        "        food_smell,\n",
        "        food_texture\n",
        "    )\n",
        "    print(f\"The calculated food preference strength is {preference_strength:.2f}.\")\n",
        "except ValueError as e:\n",
        "    print(e)\n",
        "\n",
        "    ##A callback function is a function that is passed to another function as an argument. It can be done in two ways:\n",
        "    #Passing one function as an argument to another function\n",
        "    #Calling a function inside another function"
      ]
    },
    {
      "cell_type": "code",
      "source": [
        "#Test Calculate food preference\n",
        "calculate_food_preference (taste=5,smell=3,texture=2)"
      ],
      "metadata": {
        "colab": {
          "base_uri": "https://localhost:8080/"
        },
        "id": "y-evTfzAbajk",
        "outputId": "8e8688d8-8c8e-4f96-f0a0-6daa258e5262"
      },
      "execution_count": 7,
      "outputs": [
        {
          "output_type": "execute_result",
          "data": {
            "text/plain": [
              "3.8"
            ]
          },
          "metadata": {},
          "execution_count": 7
        }
      ]
    },
    {
      "cell_type": "code",
      "source": [
        "# Try to add User Inputs\n",
        "# 1. Ask User to Input Food of choice\n",
        "# 2. Ask user to innput values for food_taste, smell, and texture\n",
        "\n",
        "print(\"Please Provide Food Rating for the Dish\")\n",
        "dish = input(\"What is the name of the dish? \")\n",
        "print(f\"The name of the dish is {dish}\")\n",
        "\n",
        "taste = int(input(\"What is the taste rating of the dish? \"))\n",
        "print(f\"The taste rating of the dish is {taste}\")\n",
        "\n",
        "smell = int(input(\"What is the smell rating of the dish? \"))\n",
        "print(f\"The smell rating of the dish is {smell}\")\n",
        "\n",
        "texture = int(input(\"What is the texture rating of the dish? \"))\n",
        "print(f\"The texture rating of the dish is {texture}\")\n",
        "\n",
        "calculate_food_preference (taste=taste,smell=smell,texture=texture)\n"
      ],
      "metadata": {
        "colab": {
          "base_uri": "https://localhost:8080/"
        },
        "id": "oNd9kSBodFu3",
        "outputId": "640c9950-fb31-493a-8669-5ccd0c9f2908"
      },
      "execution_count": 10,
      "outputs": [
        {
          "output_type": "stream",
          "name": "stdout",
          "text": [
            "Please Provide Food Rating for the Dish\n",
            "What is the name of the dish? Briyani\n",
            "The name of the dish is Briyani\n",
            "What is the taste rating of the dish? 8\n",
            "The taste rating of the dish is 8\n",
            "What is the smell rating of the dish? 9\n",
            "The smell rating of the dish is 9\n",
            "What is the texture rating of the dish? 10\n",
            "The texture rating of the dish is 10\n"
          ]
        },
        {
          "output_type": "execute_result",
          "data": {
            "text/plain": [
              "8.7"
            ]
          },
          "metadata": {},
          "execution_count": 10
        }
      ]
    },
    {
      "cell_type": "code",
      "source": [
        "\n"
      ],
      "metadata": {
        "id": "NQzUAlP9ftKu"
      },
      "execution_count": 11,
      "outputs": []
    },
    {
      "cell_type": "code",
      "source": [
        "#Without Passing Function\n",
        "def two_sum (num1,num2):\n",
        "  sum = num1 + num2\n",
        "  print(sum)\n",
        "two_sum(1,2)"
      ],
      "metadata": {
        "colab": {
          "base_uri": "https://localhost:8080/"
        },
        "id": "thAQRPeGgDMj",
        "outputId": "1a888bcc-9573-48f9-e836-114fd08600bf"
      },
      "execution_count": 14,
      "outputs": [
        {
          "output_type": "stream",
          "name": "stdout",
          "text": [
            "3\n"
          ]
        }
      ]
    },
    {
      "cell_type": "code",
      "source": [],
      "metadata": {
        "colab": {
          "base_uri": "https://localhost:8080/",
          "height": 106
        },
        "id": "Np8Qc2Xygh8n",
        "outputId": "34c57807-3b99-4560-cfa3-825128bcbecd"
      },
      "execution_count": 16,
      "outputs": [
        {
          "output_type": "error",
          "ename": "SyntaxError",
          "evalue": "invalid syntax (<ipython-input-16-678442155dab>, line 1)",
          "traceback": [
            "\u001b[0;36m  File \u001b[0;32m\"<ipython-input-16-678442155dab>\"\u001b[0;36m, line \u001b[0;32m1\u001b[0m\n\u001b[0;31m    def two_sum(1,2):\u001b[0m\n\u001b[0m                ^\u001b[0m\n\u001b[0;31mSyntaxError\u001b[0m\u001b[0;31m:\u001b[0m invalid syntax\n"
          ]
        }
      ]
    }
  ]
}